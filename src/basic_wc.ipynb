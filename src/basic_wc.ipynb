{
  "cells": [
    {
      "cell_type": "code",
      "execution_count": 1,
      "metadata": {
        "colab": {
          "base_uri": "https://localhost:8080/"
        },
        "id": "rSUi4DXLmDYM",
        "outputId": "63478a11-8709-42ea-faaa-f807f82eaa0c"
      },
      "outputs": [
        {
          "name": "stdout",
          "output_type": "stream",
          "text": [
            "Requirement already satisfied: pyspark in /usr/local/lib/python3.10/dist-packages (3.5.0)\n",
            "Requirement already satisfied: py4j==0.10.9.7 in /usr/local/lib/python3.10/dist-packages (from pyspark) (0.10.9.7)\n"
          ]
        }
      ],
      "source": [
        "!pip install pyspark"
      ]
    },
    {
      "cell_type": "code",
      "execution_count": 2,
      "metadata": {
        "colab": {
          "base_uri": "https://localhost:8080/"
        },
        "id": "YD08RaFKmIyM",
        "outputId": "4bb5ae1e-c929-4ece-c6bc-d7d339c4a933"
      },
      "outputs": [
        {
          "name": "stdout",
          "output_type": "stream",
          "text": [
            "Drive already mounted at /content/drive; to attempt to forcibly remount, call drive.mount(\"/content/drive\", force_remount=True).\n"
          ]
        }
      ],
      "source": [
        "from google.colab import drive\n",
        "\n",
        "drive.mount('/content/drive')\n"
      ]
    },
    {
      "cell_type": "code",
      "execution_count": 3,
      "metadata": {
        "colab": {
          "base_uri": "https://localhost:8080/",
          "height": 34
        },
        "id": "VJhRs31iMEkb",
        "outputId": "5929c203-d6ee-4ea6-b4e3-afebc0051932"
      },
      "outputs": [
        {
          "data": {
            "application/javascript": "(async (port, path, text, element) => {\n    if (!google.colab.kernel.accessAllowed) {\n      return;\n    }\n    element.appendChild(document.createTextNode(''));\n    const url = await google.colab.kernel.proxyPort(port);\n    const anchor = document.createElement('a');\n    anchor.href = new URL(path, url).toString();\n    anchor.target = '_blank';\n    anchor.setAttribute('data-href', url + path);\n    anchor.textContent = text;\n    element.appendChild(anchor);\n  })(4040, \"/jobs/index.html\", \"https://localhost:4040/jobs/index.html\", window.element)",
            "text/plain": [
              "<IPython.core.display.Javascript object>"
            ]
          },
          "metadata": {},
          "output_type": "display_data"
        }
      ],
      "source": [
        "from google.colab import output\n",
        "output.serve_kernel_port_as_window(4040, path='/jobs/index.html')"
      ]
    },
    {
      "cell_type": "code",
      "execution_count": 4,
      "metadata": {
        "id": "BIi-_3zOmSSA"
      },
      "outputs": [],
      "source": [
        "import time\n",
        "from pyspark import SparkContext\n",
        "\n",
        "sc = SparkContext(\"local\", \"Basic_Word_Count_Session\")"
      ]
    },
    {
      "cell_type": "code",
      "execution_count": null,
      "metadata": {
        "id": "weFfgnKmmufT"
      },
      "outputs": [],
      "source": [
        "def main():\n",
        "\tinput_path = \"/content/drive/MyDrive/Colab Notebooks/dataset/DRACULA.txt\"\n",
        "\toutput_path = \"/content/drive/MyDrive/Colab Notebooks/dataset/basic_wc_result/\"\n",
        "\n",
        "\tinput_texts = sc.textFile(input_path)\n",
        "\ttokens = input_texts.flatMap(lambda line: line.split(\" \"))\n",
        "\n",
        "\ttokens_count_init = tokens.map(lambda word: (word, 1))\n",
        "\ttokens_count = tokens_count_init.reduceByKey(lambda x, y: x + y)\n",
        "\n",
        "\ttokens_count.coalesce(1).saveAsTextFile(output_path)\n",
        "\n",
        "\ttime.sleep(60)\n",
        "\tsc.stop()\n",
        "\n",
        "\n",
        "main()"
      ]
    },
    {
      "cell_type": "code",
      "execution_count": null,
      "metadata": {},
      "outputs": [],
      "source": []
    }
  ],
  "metadata": {
    "colab": {
      "provenance": []
    },
    "kernelspec": {
      "display_name": "Python 3",
      "name": "python3"
    },
    "language_info": {
      "name": "python"
    }
  },
  "nbformat": 4,
  "nbformat_minor": 0
}
